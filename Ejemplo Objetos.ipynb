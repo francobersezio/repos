{
 "cells": [
  {
   "cell_type": "code",
   "execution_count": 113,
   "metadata": {},
   "outputs": [],
   "source": [
    "class Auto:\n",
    "    '''Con esta clase se muestran los autos en stock y su precio en\n",
    "        millones de pesos\n",
    "    '''\n",
    "    def __init__(self, precio, marca, disponibilidad):\n",
    "        self.p = precio\n",
    "        self.m = marca\n",
    "        self.c = []\n",
    "        self.d = disponibilidad\n",
    "    \n",
    "    def color(self,color):\n",
    "            self.c.append(color)\n",
    "            if len(self.c) > 1:\n",
    "                print('Cambiando pintura...')\n",
    "                self.c = [self.c.pop()]\n",
    "            self._color_del_auto\n",
    "    \n",
    "    def vender(self, cant_compra):\n",
    "        if self.d < cant_compra:\n",
    "            print(\"La cantidad pedida excede la disponible ->\", self.d,\n",
    "                 \"\\nPor favor ingrese una nueva cifra\")\n",
    "        else:\n",
    "            self.d -= cant_compra\n",
    "            print(\"Vendido \\nQuedan\", self.d, \"disponibles\")\n",
    "            \n",
    "    @property\n",
    "    def _color_del_auto(self):\n",
    "        print(\"El color de su nuevo %s es el %s\" %(self.m, self.c[0]))\n",
    "            \n",
    "    def __str__(self):\n",
    "        return ('El auto es un %s' %(self.m))\n",
    "    "
   ]
  },
  {
   "cell_type": "code",
   "execution_count": 116,
   "metadata": {},
   "outputs": [
    {
     "name": "stdout",
     "output_type": "stream",
     "text": [
      "El auto es un Ferrari\n",
      "El color de su nuevo Ferrari es el Rojo\n",
      "El color de su nuevo Lamborghini es el Azul\n",
      "Cambiando pintura...\n",
      "El color de su nuevo Ferrari es el Rojo\n",
      "El color de su nuevo Ferrari es el Rojo\n"
     ]
    }
   ],
   "source": [
    "ferrari = Auto(100, \"Ferrari\", 10)\n",
    "lambo = Auto(120, \"Lamborghini\", 3)\n",
    "print(ferrari)\n",
    "ferrari.color('Rojo')\n",
    "lambo.color('Azul')\n",
    "ferrari.color('Rojo')"
   ]
  },
  {
   "cell_type": "code",
   "execution_count": 94,
   "metadata": {},
   "outputs": [
    {
     "name": "stdout",
     "output_type": "stream",
     "text": [
      "Vendido \n",
      "Quedan 9 disponibles\n"
     ]
    }
   ],
   "source": [
    "ferrari.vender(1)"
   ]
  },
  {
   "cell_type": "code",
   "execution_count": 66,
   "metadata": {},
   "outputs": [
    {
     "name": "stdout",
     "output_type": "stream",
     "text": [
      "4\n",
      "5\n",
      "['auto', 'pieza', 'perro', 'gato', 'casa', 'tele']\n",
      "['auto', 'perro', 'gato', 'casa', 'tele']\n",
      "['tele']\n"
     ]
    }
   ],
   "source": [
    "a = [\"auto\",\"perro\", 'gato',\"casa\"]\n",
    "print(len(a))\n",
    "a.append(\"tele\")\n",
    "print(len(a))\n",
    "a.insert(1,\"pieza\")\n",
    "print(a)\n",
    "a.remove(\"pieza\")\n",
    "print(a)\n",
    "b =[]\n",
    "b.append(a.pop())\n",
    "print(b)"
   ]
  },
  {
   "cell_type": "code",
   "execution_count": 163,
   "metadata": {},
   "outputs": [],
   "source": [
    "class Email:\n",
    "    \n",
    "    def __init__(self, address):\n",
    "        self._email = address\n",
    "\n",
    "    def _set_email(self, value):\n",
    "        if '@' not in value:\n",
    "            print(\"Esto no parece una dirección de correo.\")\n",
    "        else:\n",
    "            self._email = value\n",
    "\n",
    "    def _get_email(self):\n",
    "        return self._email\n",
    "    \n",
    "    def _del_email(self):\n",
    "        print(\"Eliminaste el correo!!\")\n",
    "        del self._email    \n",
    "\n",
    "    email = property(_get_email, _set_email, _del_email, \"Esta propiedad corresponde al correo...\")"
   ]
  },
  {
   "cell_type": "code",
   "execution_count": 175,
   "metadata": {},
   "outputs": [
    {
     "data": {
      "text/plain": [
       "'kp1@gmail.com'"
      ]
     },
     "execution_count": 175,
     "metadata": {},
     "output_type": "execute_result"
    }
   ],
   "source": [
    "m1 = Email(\"kp1@gmail.com\")\n",
    "m1.email"
   ]
  },
  {
   "cell_type": "code",
   "execution_count": 176,
   "metadata": {},
   "outputs": [
    {
     "name": "stdout",
     "output_type": "stream",
     "text": [
      "Esto no parece una dirección de correo.\n"
     ]
    }
   ],
   "source": [
    "m1.email = \"hola\""
   ]
  },
  {
   "cell_type": "code",
   "execution_count": 177,
   "metadata": {},
   "outputs": [
    {
     "name": "stdout",
     "output_type": "stream",
     "text": [
      "Eliminaste el correo!!\n"
     ]
    }
   ],
   "source": [
    "del m1.email"
   ]
  },
  {
   "cell_type": "code",
   "execution_count": null,
   "metadata": {},
   "outputs": [],
   "source": []
  }
 ],
 "metadata": {
  "kernelspec": {
   "display_name": "Python 3",
   "language": "python",
   "name": "python3"
  },
  "language_info": {
   "codemirror_mode": {
    "name": "ipython",
    "version": 3
   },
   "file_extension": ".py",
   "mimetype": "text/x-python",
   "name": "python",
   "nbconvert_exporter": "python",
   "pygments_lexer": "ipython3",
   "version": "3.6.8"
  }
 },
 "nbformat": 4,
 "nbformat_minor": 2
}
