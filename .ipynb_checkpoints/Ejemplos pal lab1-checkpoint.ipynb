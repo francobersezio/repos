{
 "cells": [
  {
   "cell_type": "code",
   "execution_count": 14,
   "metadata": {},
   "outputs": [],
   "source": [
    "class ContactList(list):\n",
    "    \n",
    "    # buscar es un método específico de esta sub-clase\n",
    "    def buscar(self, nombre):\n",
    "        matches = []\n",
    "        \n",
    "        for contacto in self:\n",
    "            if nombre in contacto.nombre:\n",
    "                matches.append(contacto)\n",
    "                \n",
    "        return matches\n",
    "\n",
    "    \n",
    "class Contacto:\n",
    "   \n",
    "    contactos_list = ContactList()\n",
    "\n",
    "    def __init__(self, nombre, email):\n",
    "        self.nombre = nombre\n",
    "        self.email = email\n",
    "        Contacto.contactos_list.append(self)\n",
    "        "
   ]
  },
  {
   "cell_type": "code",
   "execution_count": 17,
   "metadata": {},
   "outputs": [
    {
     "name": "stdout",
     "output_type": "stream",
     "text": [
      "['Jorge González', 'Jorge González', 'Jorge González']\n"
     ]
    }
   ],
   "source": [
    "p2 = Contacto(nombre = \"Jorge González\", email = \"jg@gmail.com\")\n",
    "L = [c.nombre for c in p2.contactos_list.buscar(\"Jorge\")]\n",
    "print(L)"
   ]
  },
  {
   "cell_type": "code",
   "execution_count": 53,
   "metadata": {},
   "outputs": [],
   "source": [
    "class PerrosList(list):\n",
    "    \n",
    "    def perros_list(self, perro):\n",
    "        lista = []\n",
    "        lista.append(perro)\n",
    "        return lista\n",
    "        \n",
    "class Perro:\n",
    "    \n",
    "    perros_list = PerrosList()\n",
    "    \n",
    "    def __init__(self, nombre, raza, dueno):\n",
    "        self.n = nombre\n",
    "        self.r = raza\n",
    "        self.d = dueno\n",
    "        self.perros_list.append(self)\n",
    "    \n",
    "    def __str__(self):\n",
    "        return self.n"
   ]
  },
  {
   "cell_type": "code",
   "execution_count": 54,
   "metadata": {},
   "outputs": [
    {
     "name": "stdout",
     "output_type": "stream",
     "text": [
      "Otter\n",
      "Diana\n"
     ]
    }
   ],
   "source": [
    "perro1 = Perro('Otter', 'Terranova', 'Franco')\n",
    "perro2 = Perro('Crono', 'Pastor Alemán', 'Franco')\n",
    "perro3 = Perro('Diana', 'Pastor Alemán', 'Franco')\n",
    "print(perro1)\n",
    "a = perro1.perros_list.perros_list(perro3)\n",
    "print(a[0])"
   ]
  },
  {
   "cell_type": "code",
   "execution_count": 13,
   "metadata": {},
   "outputs": [],
   "source": [
    "class Gato:\n",
    "\n",
    "    def __init__(self, nombre, dueno):\n",
    "        self.nombre = nombre\n",
    "        self.dueno = dueno\n",
    "        \n",
    "    def __str__(self):\n",
    "        return self.dueno\n",
    "\n",
    "class GatoList(list):\n",
    "\n",
    "    def __init__(self):\n",
    "        self.gatos_adentro = []\n",
    "\n",
    "    def  agregar_gato(self, gato):\n",
    "        self.gatos_adentro.append(gato)\n",
    "        print(\"gato agregado\")\n"
   ]
  },
  {
   "cell_type": "code",
   "execution_count": 22,
   "metadata": {},
   "outputs": [
    {
     "name": "stdout",
     "output_type": "stream",
     "text": [
      "[]\n",
      "gato agregado\n",
      "gato agregado\n",
      "[<__main__.Gato object at 0x00000180F192BCF8>, <__main__.Gato object at 0x00000180F192BDA0>]\n",
      "Franco ; Bruno\n"
     ]
    }
   ],
   "source": [
    "Rukia = Gato(\"Rukia\", \"Franco\")\n",
    "Catrino = Gato(\"Catrino\", \"Bruno\")\n",
    "b = GatoList()\n",
    "print(b.gatos_adentro)\n",
    "b.agregar_gato(Rukia)\n",
    "b.agregar_gato(Catrino)\n",
    "print(b.gatos_adentro)\n",
    "print(b.gatos_adentro[0], \";\", b.gatos_adentro[1])"
   ]
  },
  {
   "cell_type": "code",
   "execution_count": 56,
   "metadata": {},
   "outputs": [
    {
     "name": "stdout",
     "output_type": "stream",
     "text": [
      "[]\n",
      "Franco: Que rico\n",
      "[<__main__.MiPico object at 0x000002B4FBE472E8>]\n"
     ]
    }
   ],
   "source": [
    "class MiPico:\n",
    "\n",
    "    def __init__(self, owner):\n",
    "        self.owner = owner\n",
    "\n",
    "class TuPoto:\n",
    "\n",
    "    def __init__(self, owner):\n",
    "        self.owner = owner\n",
    "        self.picos_adentro = []\n",
    "\n",
    "    def  meter_pico(self, pico):\n",
    "        self.picos_adentro.append(pico)\n",
    "        print(self.owner + \": Que rico\")\n",
    "\n",
    "a = MiPico(\"Diego\")\n",
    "b = TuPoto(\"Franco\")\n",
    "\n",
    "print(b.picos_adentro)\n",
    "b.meter_pico(a)\n",
    "print(b.picos_adentro)"
   ]
  },
  {
   "cell_type": "code",
   "execution_count": null,
   "metadata": {},
   "outputs": [],
   "source": []
  }
 ],
 "metadata": {
  "kernelspec": {
   "display_name": "Python 3",
   "language": "python",
   "name": "python3"
  },
  "language_info": {
   "codemirror_mode": {
    "name": "ipython",
    "version": 3
   },
   "file_extension": ".py",
   "mimetype": "text/x-python",
   "name": "python",
   "nbconvert_exporter": "python",
   "pygments_lexer": "ipython3",
   "version": "3.6.8"
  }
 },
 "nbformat": 4,
 "nbformat_minor": 2
}
