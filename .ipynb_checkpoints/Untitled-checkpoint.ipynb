{
 "cells": [
  {
   "cell_type": "code",
   "execution_count": 37,
   "metadata": {},
   "outputs": [
    {
     "name": "stdout",
     "output_type": "stream",
     "text": [
      "2020-10-29\n"
     ]
    }
   ],
   "source": [
    "from datetime import date\n",
    "a = date(2020, 10, 29)\n",
    "print(a)"
   ]
  },
  {
   "cell_type": "code",
   "execution_count": 38,
   "metadata": {},
   "outputs": [],
   "source": [
    "class Planificacion:\n",
    "    \n",
    "    def __init__(self):\n",
    "        self.proyectos = []\n",
    "\n",
    "class Proyecto:\n",
    "\n",
    "    def __init__(self, nombre, descripcion = None,\n",
    "                 fecha_inicio = None, estado =  None):\n",
    "        self.nombre = nombre\n",
    "        self.descripcion = descripcion\n",
    "        self.fecha_inicio = fecha_inicio\n",
    "        self.estado = estado\n",
    "        self.analistas = []\n",
    "        self.jefe_proyecto = []\n",
    "        self.obreros = []\n",
    "    \n",
    "class Concientizacion(Proyecto):\n",
    "\n",
    "    def __init__(self,  nombre, descripcion, fecha_inicio, estado, tema, impacto):\n",
    "        super().__init__(nombre, descripcion, fecha_inicio, estado)\n",
    "        self.tema = tema\n",
    "        self.impacto = impacto\n",
    "\n",
    "class Ejecucion(Proyecto):\n",
    "\n",
    "    def __init__(self, ciudad, costo):\n",
    "        super().__init__(nombre, descripcion, fecha_inicio, estado)\n",
    "        self.ciudad = ciudad\n",
    "        self.costo = costo\n",
    "\n",
    "\n",
    "class Voluntario:\n",
    "\n",
    "    def __init__(self, nombre, edad, fecha_ingreso, prox_accion):\n",
    "        self.nombre = nombre\n",
    "        self.edad = edad\n",
    "        self.fecha_ingresa = fecha_ingreso\n",
    "        self.prox_accion = prox_accion\n",
    "\n",
    "class JefeProyecto(Voluntario):\n",
    "\n",
    "    def __init__(self,):\n",
    "        super().__init__(nombre, edad, fecha_ingreso, prox_accion)\n",
    "        self.obreros = []\n",
    "        self.analistas = []\n",
    "\n",
    "class Analista(Voluntario):\n",
    "\n",
    "    def __init__(self, nombre, edad, fecha_ingreso, prox_accion, especializacion):\n",
    "        super().__init__(nombre, edad, fecha_ingreso, prox_accion)\n",
    "        self.especializacion = especializacion\n",
    "\n",
    "class Obrero(Voluntario):\n",
    "\n",
    "    def __init__(self, nombre, edad, fecha_ingreso, prox_accion):\n",
    "        super().__init__(nombre, edad, fecha_ingreso, prox_accion)\n",
    "\"\"\"\"\n",
    "class Institucion:\n",
    "\n",
    "    def __init__(self):\n",
    "\n",
    "class InstPublica(Institucion):\n",
    "\n",
    "    def __init__(self):\n",
    "\n",
    "class InstPrivada(Institucion):\n",
    "\n",
    "    def __init__(self):\n",
    "\n",
    "class InstSocial(Institucion):\n",
    "\n",
    "    def __init__(self):\n",
    "\n",
    "\"\"\"\n",
    "proyecto_1 = Proyecto(\"proyecto_inicial\")\n"
   ]
  },
  {
   "cell_type": "code",
   "execution_count": 1,
   "metadata": {},
   "outputs": [
    {
     "name": "stdout",
     "output_type": "stream",
     "text": [
      "Crear proyecto[1]/ voluntario[2]/ institucion[4]\n",
      "Su eleccion\n",
      "1\n",
      "a\n"
     ]
    }
   ],
   "source": [
    "##############Menú###########\n",
    "\n",
    "\n",
    "print(\"Crear proyecto[1]/ voluntario[2]/ institucion[4]\")\n",
    "\n",
    "while True:\n",
    "    print(\"Su eleccion\")\n",
    "    choice = input()\n",
    "    if choice == \"1\":#Elige crear un proyecto\n",
    "        while True:\n",
    "            print(\"Elija tipo de proyecto\")\n",
    "            print(\"[1] Concientizacion o [2]Ejecucion\")\n",
    "            tipo_proyecto = input()\n",
    "            if tipo_proyecto = \"1\":\n",
    "                nombre_pc = input(\"Ingrese nombre del proyecto:\")\n",
    "                descripcion_pc = input(\"De una breve descripción del proyecto:\")\n",
    "                while True:\n",
    "                    mes_pc = input(\"ingrese mes del 1 al 12\")\n",
    "                    if mes_pc in [\"1\", \"3\", \"5\", \"7\", \"8\", \"10\", \"12\"]:\n",
    "                        dia_pc = input(\"ingrese dia del 1 al 31:\")\n",
    "                        if type(\"a\") \n",
    "                        break\n",
    "                    elif mes_pc in [\"4\", \"6\", \"9\", \"11\"]:\n",
    "                        dia_pc = input(\"ingrese dia del 1 al 30:\")\n",
    "                        break\n",
    "                    elif mes_pc == [\"2\"]:#por el momento no soporta años bisiestos\n",
    "                        dia_pc = input(\"ingrese dia del 1 al 28:\")\n",
    "                        break\n",
    "                    else:\n",
    "                        print(\"mes debe ir entre 1 y 12\")\n",
    "                estado_pc = input(\"Estado:\")\n",
    "                concientizacion = Concientizacion(nombre_p, descripcion_p, fecha_p, estado_p)\n",
    "        break\n",
    "    elif choice  == \"2\":\n",
    "        print(\"b\")\n",
    "        break\n",
    "    elif choice  == \"3\":\n",
    "        print(\"c\")\n",
    "        break\n",
    "    else:\n",
    "        print(\"Mal la wea\")"
   ]
  },
  {
   "cell_type": "code",
   "execution_count": 36,
   "metadata": {},
   "outputs": [
    {
     "name": "stdout",
     "output_type": "stream",
     "text": [
      "<__main__.Voluntario object at 0x00000234CCA86898>\n"
     ]
    },
    {
     "data": {
      "text/plain": [
       "<__main__.Concientizacion at 0x234cca8b278>"
      ]
     },
     "execution_count": 36,
     "metadata": {},
     "output_type": "execute_result"
    }
   ],
   "source": [
    "fecha = date(2020, 10, 29)\n",
    "planificacion1 = Planificacion()\n",
    "proyecto1 = Concientizacion(\"Primer Proyecto\", \"1er proyecto\", fecha, \"En ejecucion\", \"pico\", \"L\")\n",
    "proyecto1.fecha_inicio\n",
    "voluntario1 = Voluntario(\"Franco\",\"21\", fecha, \"rgjsdfbjsdligjnker\")\n",
    "proyecto1.analistas.append(voluntario1)\n",
    "print(proyecto1.analistas[0])\n",
    "planificacion1.proyectos.append(proyecto1)\n",
    "planificacion1.proyectos[0]"
   ]
  },
  {
   "cell_type": "code",
   "execution_count": null,
   "metadata": {},
   "outputs": [],
   "source": []
  }
 ],
 "metadata": {
  "kernelspec": {
   "display_name": "Python 3",
   "language": "python",
   "name": "python3"
  },
  "language_info": {
   "codemirror_mode": {
    "name": "ipython",
    "version": 3
   },
   "file_extension": ".py",
   "mimetype": "text/x-python",
   "name": "python",
   "nbconvert_exporter": "python",
   "pygments_lexer": "ipython3",
   "version": "3.6.8"
  }
 },
 "nbformat": 4,
 "nbformat_minor": 2
}
