{
 "cells": [
  {
   "cell_type": "code",
   "execution_count": 87,
   "metadata": {},
   "outputs": [],
   "source": [
    "class Auto:\n",
    "    '''Con esta clase se muestran los autos en stock y su precio en\n",
    "        millones de pesos\n",
    "    '''\n",
    "    def __init__(self, precio, marca, color, disponibilidad):\n",
    "        self.p = precio\n",
    "        self.m = marca\n",
    "        self.c = color\n",
    "        self.d = disponibilidad\n",
    "    \n",
    "    def vender(self, cant_compra):\n",
    "        if self.d < cant_compra:\n",
    "            print(\"La cantidad pedida excede la disponible ->\", self.d,\n",
    "                 \"\\nPor favor ingrese una nueva cifra\")\n",
    "        else:\n",
    "            self.d -= cant_compra\n",
    "            print(\"Vendido \\nQuedan\", self.d, \"disponibles\")"
   ]
  },
  {
   "cell_type": "code",
   "execution_count": 93,
   "metadata": {},
   "outputs": [
    {
     "name": "stdout",
     "output_type": "stream",
     "text": [
      "Cuesta 100 millones el Ferrari Rojo \n",
      "Quedan 10 disponibles\n"
     ]
    }
   ],
   "source": [
    "ferrari = Auto(100, \"Ferrari\", \"Rojo\", 10)\n",
    "print(\"Cuesta\", ferrari.p, \"millones el\", ferrari.m, ferrari.c,\n",
    "      \"\\nQuedan\", ferrari.d, \"disponibles\")"
   ]
  },
  {
   "cell_type": "code",
   "execution_count": 94,
   "metadata": {},
   "outputs": [
    {
     "name": "stdout",
     "output_type": "stream",
     "text": [
      "Vendido \n",
      "Quedan 9 disponibles\n"
     ]
    }
   ],
   "source": [
    "ferrari.vender(1)"
   ]
  },
  {
   "cell_type": "code",
   "execution_count": null,
   "metadata": {},
   "outputs": [],
   "source": []
  }
 ],
 "metadata": {
  "kernelspec": {
   "display_name": "Python 3",
   "language": "python",
   "name": "python3"
  },
  "language_info": {
   "codemirror_mode": {
    "name": "ipython",
    "version": 3
   },
   "file_extension": ".py",
   "mimetype": "text/x-python",
   "name": "python",
   "nbconvert_exporter": "python",
   "pygments_lexer": "ipython3",
   "version": "3.6.8"
  }
 },
 "nbformat": 4,
 "nbformat_minor": 2
}
